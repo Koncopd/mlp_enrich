{
 "cells": [
  {
   "cell_type": "code",
   "execution_count": 1,
   "metadata": {},
   "outputs": [],
   "source": [
    "import scanpy as sc\n",
    "import numpy as np\n",
    "import torch\n",
    "\n",
    "from utils import add_annotations\n",
    "from model import EnrichClassifier\n",
    "from train import train_classifier"
   ]
  },
  {
   "cell_type": "code",
   "execution_count": 2,
   "metadata": {},
   "outputs": [],
   "source": [
    "# download dataset - https://drive.google.com/open?id=1-N7wPpYUf_QcG5566WVZlaxVC90M7NNE\n",
    "adata = sc.read('kang_count.h5ad')"
   ]
  },
  {
   "cell_type": "code",
   "execution_count": 3,
   "metadata": {},
   "outputs": [],
   "source": [
    "# add reactome annotations to adata.varm['I']\n",
    "# filter out pathways with the number of genes less than 13\n",
    "add_annotations(adata, files='c2.cp.reactome.v4.0.symbols.gmt', min_genes=13)"
   ]
  },
  {
   "cell_type": "code",
   "execution_count": 4,
   "metadata": {},
   "outputs": [],
   "source": [
    "# remove genes which are not in any pathway\n",
    "select_genes = adata.varm['I'].sum(1)>0\n",
    "adata._inplace_subset_var(select_genes)"
   ]
  },
  {
   "cell_type": "code",
   "execution_count": 5,
   "metadata": {},
   "outputs": [],
   "source": [
    "LR = 0.005\n",
    "BATCH_SIZE = 64\n",
    "N_EPOCHS = 30"
   ]
  },
  {
   "cell_type": "code",
   "execution_count": 6,
   "metadata": {},
   "outputs": [],
   "source": [
    "pathways_mask = torch.Tensor(adata.varm['I'])"
   ]
  },
  {
   "cell_type": "code",
   "execution_count": 7,
   "metadata": {},
   "outputs": [],
   "source": [
    "n_labels = len(np.unique(adata.obs['cell_type']))\n",
    "\n",
    "classifier = EnrichClassifier(pathways_mask, n_labels)"
   ]
  },
  {
   "cell_type": "code",
   "execution_count": null,
   "metadata": {},
   "outputs": [],
   "source": [
    "# train\n",
    "train_classifier(adata, 'cell_type', classifier, LR, BATCH_SIZE, N_EPOCHS)"
   ]
  },
  {
   "cell_type": "code",
   "execution_count": null,
   "metadata": {},
   "outputs": [],
   "source": [
    "# get relevance (enrichment score) for each pathway\n",
    "# returns tensor of size num of classes X num of pathways\n",
    "classifier.get_relevance()"
   ]
  },
  {
   "cell_type": "code",
   "execution_count": null,
   "metadata": {},
   "outputs": [],
   "source": []
  }
 ],
 "metadata": {
  "kernelspec": {
   "display_name": "Python 3",
   "language": "python",
   "name": "python3"
  },
  "language_info": {
   "codemirror_mode": {
    "name": "ipython",
    "version": 3
   },
   "file_extension": ".py",
   "mimetype": "text/x-python",
   "name": "python",
   "nbconvert_exporter": "python",
   "pygments_lexer": "ipython3",
   "version": "3.6.10"
  }
 },
 "nbformat": 4,
 "nbformat_minor": 4
}
